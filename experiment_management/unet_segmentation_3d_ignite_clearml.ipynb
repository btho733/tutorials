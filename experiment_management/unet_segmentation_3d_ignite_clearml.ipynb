{
  "cells": [
    {
      "cell_type": "markdown",
      "metadata": {
        "id": "3mqoATXZGTAX"
      },
      "source": [
        "Copyright (c) MONAI Consortium  \n",
        "Licensed under the Apache License, Version 2.0 (the \"License\");  \n",
        "you may not use this file except in compliance with the License.  \n",
        "You may obtain a copy of the License at  \n",
        "&nbsp;&nbsp;&nbsp;&nbsp;http://www.apache.org/licenses/LICENSE-2.0  \n",
        "Unless required by applicable law or agreed to in writing, software  \n",
        "distributed under the License is distributed on an \"AS IS\" BASIS,  \n",
        "WITHOUT WARRANTIES OR CONDITIONS OF ANY KIND, either express or implied.  \n",
        "See the License for the specific language governing permissions and  \n",
        "limitations under the License.\n",
        "\n",
        "# Experiment Management with ClearML\n",
        "\n",
        "[![Open In Colab](https://colab.research.google.com/assets/colab-badge.svg)](https://colab.research.google.com/github/Project-MONAI/tutorials/blob/main/experiment_management/unet_segmentation_3d_ignite_clearml.ipynb)\n",
        "\n",
        "This tutorial shows how to use ClearML to manage MONAI experiments. You can integrate ClearML into your code using MONAI's built-in handlers: `ClearMLImageHandler`, `ClearMLStatsHandler`, and `ModelCheckpoint`.\n",
        "\n",
        "The MONAI example used here is [3D segmentation with UNet](https://github.com/Project-MONAI/tutorials/blob/main/3d_segmentation/unet_segmentation_3d_ignite.ipynb)."
      ]
    },
    {
      "cell_type": "markdown",
      "metadata": {
        "collapsed": false,
        "id": "m_5iDugmXcum"
      },
      "source": [
        "## Setup environment\n",
        "\n",
        "`clearml` comes as part of the `monai[all]` installation. For more information about integrating ClearML into your MONAI code, see [here](https://clear.ml/docs/latest/docs/integrations/monai). For more information about using ClearML (experiment management, data management, pipelines, model serving, and more), see [ClearML's official documentation](https://clear.ml/docs/latest/docs/)."
      ]
    },
    {
      "cell_type": "code",
      "execution_count": 1,
      "metadata": {
        "colab": {
          "base_uri": "https://localhost:8080/"
        },
        "id": "jxKCbdGUXcun",
        "outputId": "7ddd83e3-de8b-4f8a-c6ec-312087c24727"
      },
      "outputs": [
        {
          "output_type": "stream",
          "name": "stdout",
          "text": [
            "Traceback (most recent call last):\n",
            "  File \"<string>\", line 1, in <module>\n",
            "ModuleNotFoundError: No module named 'monai'\n",
            "\u001b[2K   \u001b[90m━━━━━━━━━━━━━━━━━━━━━━━━━━━━━━━━━━━━━━━━\u001b[0m \u001b[32m266.5/266.5 kB\u001b[0m \u001b[31m8.7 MB/s\u001b[0m eta \u001b[36m0:00:00\u001b[0m\n",
            "\u001b[2K   \u001b[90m━━━━━━━━━━━━━━━━━━━━━━━━━━━━━━━━━━━━━━━━\u001b[0m \u001b[32m1.2/1.2 MB\u001b[0m \u001b[31m21.0 MB/s\u001b[0m eta \u001b[36m0:00:00\u001b[0m\n",
            "\u001b[2K   \u001b[90m━━━━━━━━━━━━━━━━━━━━━━━━━━━━━━━━━━━━━━━━\u001b[0m \u001b[32m1.5/1.5 MB\u001b[0m \u001b[31m9.6 MB/s\u001b[0m eta \u001b[36m0:00:00\u001b[0m\n",
            "\u001b[?25h"
          ]
        }
      ],
      "source": [
        "!python -c \"import monai\" || pip install -q \"monai-weekly[ignite, nibabel, tensorboard, clearml]\""
      ]
    },
    {
      "cell_type": "markdown",
      "metadata": {
        "id": "G-L36u4sGTAg"
      },
      "source": [
        "## Setup imports"
      ]
    },
    {
      "cell_type": "code",
      "execution_count": 2,
      "metadata": {
        "id": "VAWF4EftGTAh",
        "colab": {
          "base_uri": "https://localhost:8080/"
        },
        "outputId": "32a52ecd-dbd2-468b-a668-b7be1249bedf"
      },
      "outputs": [
        {
          "output_type": "stream",
          "name": "stdout",
          "text": [
            "MONAI version: 1.5.dev2444\n",
            "Numpy version: 1.26.4\n",
            "Pytorch version: 2.5.0+cu121\n",
            "MONAI flags: HAS_EXT = False, USE_COMPILED = False, USE_META_DICT = False\n",
            "MONAI rev id: c70fbd8ff919cabaacfabcbdbf28aa435ae622f9\n",
            "MONAI __file__: /usr/local/lib/python3.10/dist-packages/monai/__init__.py\n",
            "\n",
            "Optional dependencies:\n",
            "Pytorch Ignite version: 0.4.11\n",
            "ITK version: NOT INSTALLED or UNKNOWN VERSION.\n",
            "Nibabel version: 5.3.2\n",
            "scikit-image version: 0.24.0\n",
            "scipy version: 1.13.1\n",
            "Pillow version: 10.4.0\n",
            "Tensorboard version: 2.17.0\n",
            "gdown version: 5.2.0\n",
            "TorchVision version: 0.20.0+cu121\n",
            "tqdm version: 4.66.6\n",
            "lmdb version: NOT INSTALLED or UNKNOWN VERSION.\n",
            "psutil version: 5.9.5\n",
            "pandas version: 2.2.2\n",
            "einops version: 0.8.0\n",
            "transformers version: 4.44.2\n",
            "mlflow version: NOT INSTALLED or UNKNOWN VERSION.\n",
            "pynrrd version: NOT INSTALLED or UNKNOWN VERSION.\n",
            "clearml version: 1.16.5\n",
            "\n",
            "For details about installing the optional dependencies, please visit:\n",
            "    https://docs.monai.io/en/latest/installation.html#installing-the-recommended-dependencies\n",
            "\n"
          ]
        }
      ],
      "source": [
        "import glob\n",
        "import logging\n",
        "import os\n",
        "import shutil\n",
        "import sys\n",
        "import tempfile\n",
        "\n",
        "import nibabel as nib\n",
        "import numpy as np\n",
        "from monai.config import print_config\n",
        "from monai.data import ArrayDataset, create_test_image_3d, decollate_batch, DataLoader\n",
        "from monai.handlers import (\n",
        "    MeanDice,\n",
        "    StatsHandler,\n",
        ")\n",
        "\n",
        "# import the clearml handlers\n",
        "from monai.handlers.clearml_handlers import ClearMLImageHandler, ClearMLStatsHandler\n",
        "from monai.losses import DiceLoss\n",
        "from monai.networks.nets import UNet\n",
        "from monai.transforms import (\n",
        "    Activations,\n",
        "    EnsureChannelFirst,\n",
        "    AsDiscrete,\n",
        "    Compose,\n",
        "    LoadImage,\n",
        "    RandSpatialCrop,\n",
        "    Resize,\n",
        "    ScaleIntensity,\n",
        ")\n",
        "from monai.utils import first\n",
        "\n",
        "import ignite\n",
        "import torch\n",
        "\n",
        "print_config()"
      ]
    },
    {
      "cell_type": "markdown",
      "metadata": {
        "collapsed": false,
        "id": "L388puuoXcun"
      },
      "source": [
        "## Setup ClearML ⚓\n",
        "\n",
        "1. To keep track of your experiments and/or data, ClearML needs to communicate to a server. You have 2 server options:\n",
        "\n",
        "  * Sign up for free to the [ClearML Hosted Service](https://app.clear.ml/)\n",
        "  * Set up your own server, see [here](https://clear.ml/docs/latest/docs/deploying_clearml/clearml_server).\n",
        "\n",
        "2. Add your ClearML credentials below. ClearML will use these credentials to connect to your server (see instructions for generating credentials [here](https://clear.ml/docs/latest/docs/getting_started/ds/ds_first_steps/#jupyter-notebook))."
      ]
    },
    {
      "cell_type": "code",
      "execution_count": null,
      "metadata": {
        "id": "ChKgfQzMXcuo"
      },
      "outputs": [],
      "source": [
        "# clearml credentials\n",
        "%env CLEARML_WEB_HOST=''\n",
        "%env CLEARML_API_HOST=''\n",
        "%env CLEARML_FILES_HOST=''\n",
        "%env CLEARML_API_ACCESS_KEY=''\n",
        "%env CLEARML_API_SECRET_KEY=''"
      ]
    },
    {
      "cell_type": "markdown",
      "metadata": {
        "id": "cBN8rQJcGTAk"
      },
      "source": [
        "## Setup data directory\n",
        "\n",
        "You can specify a directory with the `MONAI_DATA_DIRECTORY` environment variable.  \n",
        "This allows you to save results and reuse downloads.  \n",
        "If not specified a temporary directory will be used."
      ]
    },
    {
      "cell_type": "code",
      "execution_count": 4,
      "metadata": {
        "id": "BSjqI-ZBGTAk",
        "colab": {
          "base_uri": "https://localhost:8080/"
        },
        "outputId": "9ec05adb-3895-4e6f-9348-56f01a94b290"
      },
      "outputs": [
        {
          "output_type": "stream",
          "name": "stdout",
          "text": [
            "/tmp/tmpalv7toxp\n"
          ]
        }
      ],
      "source": [
        "directory = os.environ.get(\"MONAI_DATA_DIRECTORY\")\n",
        "if directory is not None:\n",
        "    os.makedirs(directory, exist_ok=True)\n",
        "root_dir = tempfile.mkdtemp() if directory is None else directory\n",
        "print(root_dir)"
      ]
    },
    {
      "cell_type": "markdown",
      "metadata": {
        "id": "LzxP-l1nGTAl"
      },
      "source": [
        "## Setup logging"
      ]
    },
    {
      "cell_type": "code",
      "execution_count": 5,
      "metadata": {
        "id": "GGHooZZwGTAl"
      },
      "outputs": [],
      "source": [
        "logging.basicConfig(stream=sys.stdout, level=logging.INFO)"
      ]
    },
    {
      "cell_type": "markdown",
      "metadata": {
        "id": "eIDTWNVxGTAm"
      },
      "source": [
        "## Setup demo data"
      ]
    },
    {
      "cell_type": "code",
      "execution_count": 6,
      "metadata": {
        "id": "l0jR_jz8GTAn"
      },
      "outputs": [],
      "source": [
        "for i in range(40):\n",
        "    im, seg = create_test_image_3d(128, 128, 128, num_seg_classes=1)\n",
        "\n",
        "    n = nib.Nifti1Image(im, np.eye(4))\n",
        "    nib.save(n, os.path.join(root_dir, f\"im{i}.nii.gz\"))\n",
        "\n",
        "    n = nib.Nifti1Image(seg, np.eye(4))\n",
        "    nib.save(n, os.path.join(root_dir, f\"seg{i}.nii.gz\"))\n",
        "\n",
        "images = sorted(glob.glob(os.path.join(root_dir, \"im*.nii.gz\")))\n",
        "segs = sorted(glob.glob(os.path.join(root_dir, \"seg*.nii.gz\")))"
      ]
    },
    {
      "cell_type": "markdown",
      "metadata": {
        "id": "8FUIYNO0GTAn"
      },
      "source": [
        "## Setup transforms, dataset"
      ]
    },
    {
      "cell_type": "code",
      "execution_count": 7,
      "metadata": {
        "id": "g5gz3rECGTAo",
        "colab": {
          "base_uri": "https://localhost:8080/"
        },
        "outputId": "f392e494-460f-41cc-e851-c56871713673"
      },
      "outputs": [
        {
          "output_type": "stream",
          "name": "stdout",
          "text": [
            "torch.Size([10, 1, 96, 96, 96]) torch.Size([10, 1, 96, 96, 96])\n"
          ]
        }
      ],
      "source": [
        "# Define transforms for image and segmentation\n",
        "imtrans = Compose(\n",
        "    [\n",
        "        LoadImage(image_only=True),\n",
        "        ScaleIntensity(),\n",
        "        EnsureChannelFirst(),\n",
        "        RandSpatialCrop((96, 96, 96), random_size=False),\n",
        "    ]\n",
        ")\n",
        "segtrans = Compose(\n",
        "    [\n",
        "        LoadImage(image_only=True),\n",
        "        EnsureChannelFirst(),\n",
        "        RandSpatialCrop((96, 96, 96), random_size=False),\n",
        "    ]\n",
        ")\n",
        "\n",
        "# Define nifti dataset, dataloader\n",
        "ds = ArrayDataset(images, imtrans, segs, segtrans)\n",
        "# loader = DataLoader(ds, batch_size=10, num_workers=2, pin_memory=torch.cuda.is_available())\n",
        "loader = DataLoader(ds, batch_size=10, num_workers=2, pin_memory=False)\n",
        "im, seg = first(loader)\n",
        "print(im.shape, seg.shape)"
      ]
    },
    {
      "cell_type": "markdown",
      "metadata": {
        "id": "6zl4_zeSGTAp"
      },
      "source": [
        "## Create Model, Loss, Optimizer"
      ]
    },
    {
      "cell_type": "code",
      "execution_count": 8,
      "metadata": {
        "id": "XT1D-a1-GTAp"
      },
      "outputs": [],
      "source": [
        "# Create UNet, DiceLoss and Adam optimizer\n",
        "\n",
        "device = None  # torch.device(\"cuda:0\")\n",
        "net = UNet(\n",
        "    spatial_dims=3,\n",
        "    in_channels=1,\n",
        "    out_channels=1,\n",
        "    channels=(16, 32, 64, 128, 256),\n",
        "    strides=(2, 2, 2, 2),\n",
        "    num_res_units=2,\n",
        ").to(device)\n",
        "\n",
        "loss = DiceLoss(sigmoid=True)\n",
        "lr = 1e-3\n",
        "opt = torch.optim.Adam(net.parameters(), lr)"
      ]
    },
    {
      "cell_type": "markdown",
      "metadata": {
        "id": "Xvduwsk8GTBm"
      },
      "source": [
        "## Create supervised_trainer using ignite"
      ]
    },
    {
      "cell_type": "code",
      "execution_count": 9,
      "metadata": {
        "id": "9Ocpt_MOGTBn"
      },
      "outputs": [],
      "source": [
        "# Create trainer\n",
        "trainer = ignite.engine.create_supervised_trainer(net, opt, loss, device, False)"
      ]
    },
    {
      "cell_type": "markdown",
      "metadata": {
        "id": "5vo9Eq33GTBn"
      },
      "source": [
        "## Set up event handlers for checkpointing and logging\n",
        "\n",
        "Using a ClearML handler creates a ClearML Task, which captures your experiment's models, scalars, images, and more.\n",
        "\n",
        "The console output displays the task ID and a link to the task's page in the ClearML web UI."
      ]
    },
    {
      "cell_type": "code",
      "execution_count": 10,
      "metadata": {
        "id": "cZTtFnySGTBo",
        "colab": {
          "base_uri": "https://localhost:8080/"
        },
        "outputId": "46eaa6bd-a60f-475d-c41a-c50c96d92042"
      },
      "outputs": [
        {
          "output_type": "stream",
          "name": "stdout",
          "text": [
            "ClearML Task: created new task id=c9e03a740b4c442eb7421dc75077af50\n",
            "ClearML results page: https://app.clear.ml/projects/35c4574a6ec1425cba6cfb1060765bb3/experiments/c9e03a740b4c442eb7421dc75077af50/output/log\n",
            "2024-11-03 10:30:44,070 - clearml.Task - INFO - Storing jupyter notebook directly as code\n"
          ]
        }
      ],
      "source": [
        "# optional section for checkpoint and clearml logging\n",
        "# adding checkpoint handler to save models (network\n",
        "# params and optimizer stats) during training\n",
        "log_dir = os.path.join(root_dir, \"logs\")\n",
        "checkpoint_handler = ignite.handlers.ModelCheckpoint(log_dir, \"net\", n_saved=10, require_empty=False)\n",
        "trainer.add_event_handler(\n",
        "    event_name=ignite.engine.Events.EPOCH_COMPLETED,\n",
        "    handler=checkpoint_handler,\n",
        "    to_save={\"net\": net, \"opt\": opt},\n",
        ")\n",
        "\n",
        "# StatsHandler prints loss at every iteration\n",
        "# user can also customize print functions and can use output_transform to convert\n",
        "# engine.state.output if it's not a loss value\n",
        "train_stats_handler = StatsHandler(name=\"trainer\", output_transform=lambda x: x)\n",
        "train_stats_handler.attach(trainer)\n",
        "\n",
        "\n",
        "# ClearMLStatsHandler plots loss at every iteration\n",
        "# Creates a ClearML Task which logs the scalar plots\n",
        "task_name = \"UNet segmentation 3d\"\n",
        "project_name = \"MONAI example\"\n",
        "\n",
        "train_clearml_stats_handler = ClearMLStatsHandler(\n",
        "    task_name=task_name, project_name=project_name, log_dir=log_dir, output_transform=lambda x: x\n",
        ")\n",
        "train_clearml_stats_handler.attach(trainer)"
      ]
    },
    {
      "cell_type": "markdown",
      "metadata": {
        "id": "hBv81ENGGTBp"
      },
      "source": [
        "## Add Validation every N epochs"
      ]
    },
    {
      "cell_type": "code",
      "execution_count": 12,
      "metadata": {
        "id": "VYte_Cw6GTBp",
        "colab": {
          "base_uri": "https://localhost:8080/"
        },
        "outputId": "dd3643ab-8183-4c88-89d1-b7aa2326e1fd"
      },
      "outputs": [
        {
          "output_type": "execute_result",
          "data": {
            "text/plain": [
              "<ignite.engine.events.RemovableEventHandle at 0x790d2727a0b0>"
            ]
          },
          "metadata": {},
          "execution_count": 12
        }
      ],
      "source": [
        "# optional section for model validation during training\n",
        "validation_every_n_epochs = 1\n",
        "# Set parameters for validation\n",
        "metric_name = \"Mean_Dice\"\n",
        "# add evaluation metric to the evaluator engine\n",
        "val_metrics = {metric_name: MeanDice()}\n",
        "post_pred = Compose([Activations(sigmoid=True), AsDiscrete(threshold=0.5)])\n",
        "post_label = Compose([AsDiscrete(threshold=0.5)])\n",
        "# Ignite evaluator expects batch=(img, seg) and\n",
        "# returns output=(y_pred, y) at every iteration,\n",
        "# user can add output_transform to return other values\n",
        "evaluator = ignite.engine.create_supervised_evaluator(\n",
        "    net,\n",
        "    val_metrics,\n",
        "    device,\n",
        "    True,\n",
        "    output_transform=lambda x, y, y_pred: (\n",
        "        [post_pred(i) for i in decollate_batch(y_pred)],\n",
        "        [post_label(i) for i in decollate_batch(y)],\n",
        "    ),\n",
        ")\n",
        "\n",
        "# create a validation data loader\n",
        "val_imtrans = Compose(\n",
        "    [\n",
        "        LoadImage(image_only=True),\n",
        "        ScaleIntensity(),\n",
        "        EnsureChannelFirst(),\n",
        "        Resize((96, 96, 96)),\n",
        "    ]\n",
        ")\n",
        "val_segtrans = Compose(\n",
        "    [\n",
        "        LoadImage(image_only=True),\n",
        "        EnsureChannelFirst(),\n",
        "        Resize((96, 96, 96)),\n",
        "    ]\n",
        ")\n",
        "val_ds = ArrayDataset(images[21:], val_imtrans, segs[21:], val_segtrans)\n",
        "# val_loader = DataLoader(val_ds, batch_size=5, num_workers=8, pin_memory=torch.cuda.is_available())\n",
        "val_loader = DataLoader(val_ds, batch_size=5, num_workers=2, pin_memory=False)\n",
        "\n",
        "\n",
        "@trainer.on(ignite.engine.Events.EPOCH_COMPLETED(every=validation_every_n_epochs))\n",
        "def run_validation(engine):\n",
        "    evaluator.run(val_loader)\n",
        "\n",
        "\n",
        "# Add stats event handler to print validation stats via evaluator\n",
        "val_stats_handler = StatsHandler(\n",
        "    name=\"evaluator\",\n",
        "    # no need to print loss value, so disable per iteration output\n",
        "    output_transform=lambda x: None,\n",
        "    # fetch global epoch number from trainer\n",
        "    global_epoch_transform=lambda x: trainer.state.epoch,\n",
        ")\n",
        "val_stats_handler.attach(evaluator)\n",
        "\n",
        "# add handler to record metrics to clearml at every validation epoch\n",
        "val_clearml_stats_handler = ClearMLStatsHandler(\n",
        "    log_dir=log_dir,\n",
        "    # no need to plot loss value, so disable per iteration output\n",
        "    output_transform=lambda x: None,\n",
        "    # fetch global epoch number from trainer\n",
        "    global_epoch_transform=lambda x: trainer.state.epoch,\n",
        ")\n",
        "val_clearml_stats_handler.attach(evaluator)\n",
        "\n",
        "# add handler to draw the first image and the corresponding\n",
        "# label and model output in the last batch\n",
        "# here we draw the 3D output as GIF format along Depth\n",
        "# axis, at every validation epoch\n",
        "val_clearml_image_handler = ClearMLImageHandler(\n",
        "    task_name=task_name,\n",
        "    project_name=project_name,\n",
        "    log_dir=log_dir,\n",
        "    batch_transform=lambda batch: (batch[0], batch[1]),\n",
        "    output_transform=lambda output: output[0],\n",
        "    global_iter_transform=lambda x: trainer.state.epoch,\n",
        ")\n",
        "evaluator.add_event_handler(\n",
        "    event_name=ignite.engine.Events.EPOCH_COMPLETED,\n",
        "    handler=val_clearml_image_handler,\n",
        ")"
      ]
    },
    {
      "cell_type": "markdown",
      "metadata": {
        "id": "VxXixOfHGTBq"
      },
      "source": [
        "## Run training loop"
      ]
    },
    {
      "cell_type": "code",
      "execution_count": 13,
      "metadata": {
        "id": "kW0K4mxIGTBt",
        "colab": {
          "base_uri": "https://localhost:8080/"
        },
        "outputId": "1e396854-dbd4-4314-a931-7919411d1e62"
      },
      "outputs": [
        {
          "output_type": "stream",
          "name": "stdout",
          "text": [
            "2024-11-03 10:33:38,995 - INFO - Epoch: 1/10, Iter: 1/4 -- Loss: 0.6257 \n",
            "2024-11-03 10:33:44,424 - INFO - Epoch: 1/10, Iter: 2/4 -- Loss: 0.6480 \n",
            "2024-11-03 10:33:51,319 - INFO - Epoch: 1/10, Iter: 3/4 -- Loss: 0.6237 \n",
            "2024-11-03 10:33:59,059 - INFO - Epoch: 1/10, Iter: 4/4 -- Loss: 0.5821 \n",
            "2024-11-03 10:34:02,483 - clearml.storage - INFO - Uploading: 55.07MB to /tmp/.clearml.upload_model_vad4dg8k.tmp\n"
          ]
        },
        {
          "output_type": "stream",
          "name": "stderr",
          "text": [
            "██████████████████████████████▉ 100% | 55.07/55.07 MB [00:01<00:00, 32.06MB/s]: "
          ]
        },
        {
          "output_type": "stream",
          "name": "stdout",
          "text": [
            "2024-11-03 10:34:04,228 - clearml.Task - INFO - Completed model upload to https://files.clear.ml/MONAI%20example/UNet%20segmentation%203d.c9e03a740b4c442eb7421dc75077af50/models/tmpqeno0tgh\n"
          ]
        },
        {
          "output_type": "stream",
          "name": "stderr",
          "text": [
            "\n"
          ]
        },
        {
          "output_type": "stream",
          "name": "stdout",
          "text": [
            "2024-11-03 10:34:11,999 - INFO - Epoch[1] Metrics -- Mean_Dice: 0.2175 \n",
            "2024-11-03 10:34:22,828 - INFO - Epoch[1] Metrics -- Mean_Dice: 0.2175 \n",
            "2024-11-03 10:34:30,584 - INFO - Epoch: 2/10, Iter: 1/4 -- Loss: 0.6001 \n",
            "2024-11-03 10:34:38,635 - INFO - Epoch: 2/10, Iter: 2/4 -- Loss: 0.5744 \n",
            "2024-11-03 10:34:45,662 - INFO - Epoch: 2/10, Iter: 3/4 -- Loss: 0.6105 \n",
            "2024-11-03 10:34:51,861 - INFO - Epoch: 2/10, Iter: 4/4 -- Loss: 0.5510 \n",
            "2024-11-03 10:34:54,764 - clearml.storage - INFO - Uploading: 55.07MB to /tmp/.clearml.upload_model__n8pbaer.tmp\n"
          ]
        },
        {
          "output_type": "stream",
          "name": "stderr",
          "text": [
            "██████████████████████████████▉ 100% | 55.07/55.07 MB [00:01<00:00, 34.02MB/s]: "
          ]
        },
        {
          "output_type": "stream",
          "name": "stdout",
          "text": [
            "2024-11-03 10:34:56,404 - clearml.Task - INFO - Completed model upload to https://files.clear.ml/MONAI%20example/UNet%20segmentation%203d.c9e03a740b4c442eb7421dc75077af50/models/tmp0ls7tx4x\n"
          ]
        },
        {
          "output_type": "stream",
          "name": "stderr",
          "text": [
            "\n"
          ]
        },
        {
          "output_type": "stream",
          "name": "stdout",
          "text": [
            "2024-11-03 10:35:03,822 - INFO - Epoch[2] Metrics -- Mean_Dice: 0.2386 \n",
            "2024-11-03 10:35:19,093 - INFO - Epoch[2] Metrics -- Mean_Dice: 0.2386 \n",
            "2024-11-03 10:35:26,260 - INFO - Epoch: 3/10, Iter: 1/4 -- Loss: 0.5509 \n",
            "2024-11-03 10:35:33,136 - INFO - Epoch: 3/10, Iter: 2/4 -- Loss: 0.5781 \n",
            "2024-11-03 10:35:39,699 - INFO - Epoch: 3/10, Iter: 3/4 -- Loss: 0.5435 \n",
            "2024-11-03 10:35:45,099 - INFO - Epoch: 3/10, Iter: 4/4 -- Loss: 0.5590 \n",
            "2024-11-03 10:35:47,796 - clearml.storage - INFO - Uploading: 55.07MB to /tmp/.clearml.upload_model_7jv019e4.tmp\n"
          ]
        },
        {
          "output_type": "stream",
          "name": "stderr",
          "text": [
            "██████████████████████████████▉ 100% | 55.07/55.07 MB [00:02<00:00, 22.92MB/s]: "
          ]
        },
        {
          "output_type": "stream",
          "name": "stdout",
          "text": [
            "2024-11-03 10:35:50,239 - clearml.Task - INFO - Completed model upload to https://files.clear.ml/MONAI%20example/UNet%20segmentation%203d.c9e03a740b4c442eb7421dc75077af50/models/tmpv8g1ywah\n"
          ]
        },
        {
          "output_type": "stream",
          "name": "stderr",
          "text": [
            "\n"
          ]
        },
        {
          "output_type": "stream",
          "name": "stdout",
          "text": [
            "2024-11-03 10:36:02,776 - INFO - Epoch[3] Metrics -- Mean_Dice: 0.2685 \n",
            "2024-11-03 10:36:12,011 - INFO - Epoch[3] Metrics -- Mean_Dice: 0.2685 \n",
            "2024-11-03 10:36:22,272 - INFO - Epoch: 4/10, Iter: 1/4 -- Loss: 0.5254 \n",
            "2024-11-03 10:36:29,367 - INFO - Epoch: 4/10, Iter: 2/4 -- Loss: 0.5461 \n",
            "2024-11-03 10:36:35,028 - INFO - Epoch: 4/10, Iter: 3/4 -- Loss: 0.5324 \n",
            "2024-11-03 10:36:43,154 - INFO - Epoch: 4/10, Iter: 4/4 -- Loss: 0.5312 \n",
            "2024-11-03 10:36:47,115 - clearml.storage - INFO - Uploading: 55.07MB to /tmp/.clearml.upload_model_nig57or5.tmp\n"
          ]
        },
        {
          "output_type": "stream",
          "name": "stderr",
          "text": [
            "██████████████████████████████▉ 100% | 55.07/55.07 MB [00:01<00:00, 32.44MB/s]: "
          ]
        },
        {
          "output_type": "stream",
          "name": "stdout",
          "text": [
            "2024-11-03 10:36:48,829 - clearml.Task - INFO - Completed model upload to https://files.clear.ml/MONAI%20example/UNet%20segmentation%203d.c9e03a740b4c442eb7421dc75077af50/models/tmpd3ml_qqy\n"
          ]
        },
        {
          "output_type": "stream",
          "name": "stderr",
          "text": [
            "\n"
          ]
        },
        {
          "output_type": "stream",
          "name": "stdout",
          "text": [
            "2024-11-03 10:36:56,772 - INFO - Epoch[4] Metrics -- Mean_Dice: 0.2739 \n",
            "2024-11-03 10:37:09,181 - INFO - Epoch[4] Metrics -- Mean_Dice: 0.2739 \n",
            "2024-11-03 10:37:18,596 - INFO - Epoch: 5/10, Iter: 1/4 -- Loss: 0.4975 \n",
            "2024-11-03 10:37:25,771 - INFO - Epoch: 5/10, Iter: 2/4 -- Loss: 0.5103 \n",
            "2024-11-03 10:37:30,985 - INFO - Epoch: 5/10, Iter: 3/4 -- Loss: 0.5112 \n",
            "2024-11-03 10:37:38,944 - INFO - Epoch: 5/10, Iter: 4/4 -- Loss: 0.5173 \n",
            "2024-11-03 10:37:41,914 - clearml.storage - INFO - Uploading: 55.07MB to /tmp/.clearml.upload_model_gzvj4bcr.tmp\n"
          ]
        },
        {
          "output_type": "stream",
          "name": "stderr",
          "text": [
            "██████████████████████████████▉ 100% | 55.07/55.07 MB [00:01<00:00, 31.73MB/s]: "
          ]
        },
        {
          "output_type": "stream",
          "name": "stdout",
          "text": [
            "2024-11-03 10:37:43,669 - clearml.Task - INFO - Completed model upload to https://files.clear.ml/MONAI%20example/UNet%20segmentation%203d.c9e03a740b4c442eb7421dc75077af50/models/tmp45vlgwme\n"
          ]
        },
        {
          "output_type": "stream",
          "name": "stderr",
          "text": [
            "\n"
          ]
        },
        {
          "output_type": "stream",
          "name": "stdout",
          "text": [
            "2024-11-03 10:37:49,880 - INFO - Epoch[5] Metrics -- Mean_Dice: 0.2747 \n",
            "2024-11-03 10:38:02,340 - INFO - Epoch[5] Metrics -- Mean_Dice: 0.2747 \n",
            "2024-11-03 10:38:09,918 - INFO - Epoch: 6/10, Iter: 1/4 -- Loss: 0.4785 \n",
            "2024-11-03 10:38:17,397 - INFO - Epoch: 6/10, Iter: 2/4 -- Loss: 0.5179 \n",
            "2024-11-03 10:38:25,359 - INFO - Epoch: 6/10, Iter: 3/4 -- Loss: 0.5095 \n",
            "2024-11-03 10:38:30,822 - INFO - Epoch: 6/10, Iter: 4/4 -- Loss: 0.4815 \n",
            "2024-11-03 10:38:33,817 - clearml.storage - INFO - Uploading: 55.07MB to /tmp/.clearml.upload_model_6f0485t9.tmp\n"
          ]
        },
        {
          "output_type": "stream",
          "name": "stderr",
          "text": [
            "██████████████████████████████▉ 100% | 55.07/55.07 MB [00:01<00:00, 30.86MB/s]: "
          ]
        },
        {
          "output_type": "stream",
          "name": "stdout",
          "text": [
            "2024-11-03 10:38:35,619 - clearml.Task - INFO - Completed model upload to https://files.clear.ml/MONAI%20example/UNet%20segmentation%203d.c9e03a740b4c442eb7421dc75077af50/models/tmpgbjv236q\n"
          ]
        },
        {
          "output_type": "stream",
          "name": "stderr",
          "text": [
            "\n"
          ]
        },
        {
          "output_type": "stream",
          "name": "stdout",
          "text": [
            "2024-11-03 10:38:47,648 - INFO - Epoch[6] Metrics -- Mean_Dice: 0.2782 \n",
            "2024-11-03 10:38:56,556 - INFO - Epoch[6] Metrics -- Mean_Dice: 0.2782 \n",
            "2024-11-03 10:39:06,521 - INFO - Epoch: 7/10, Iter: 1/4 -- Loss: 0.4552 \n",
            "2024-11-03 10:39:12,559 - INFO - Epoch: 7/10, Iter: 2/4 -- Loss: 0.4744 \n",
            "2024-11-03 10:39:18,077 - INFO - Epoch: 7/10, Iter: 3/4 -- Loss: 0.4940 \n",
            "2024-11-03 10:39:27,526 - INFO - Epoch: 7/10, Iter: 4/4 -- Loss: 0.4735 \n",
            "2024-11-03 10:39:30,588 - clearml.storage - INFO - Uploading: 55.07MB to /tmp/.clearml.upload_model_pzyk1_9i.tmp\n"
          ]
        },
        {
          "output_type": "stream",
          "name": "stderr",
          "text": [
            "██████████████████████████████▉ 100% | 55.07/55.07 MB [00:01<00:00, 30.56MB/s]: "
          ]
        },
        {
          "output_type": "stream",
          "name": "stdout",
          "text": [
            "2024-11-03 10:39:32,408 - clearml.Task - INFO - Completed model upload to https://files.clear.ml/MONAI%20example/UNet%20segmentation%203d.c9e03a740b4c442eb7421dc75077af50/models/tmp06d_ek7z\n"
          ]
        },
        {
          "output_type": "stream",
          "name": "stderr",
          "text": [
            "\n"
          ]
        },
        {
          "output_type": "stream",
          "name": "stdout",
          "text": [
            "2024-11-03 10:39:39,428 - INFO - Epoch[7] Metrics -- Mean_Dice: 0.2817 \n",
            "2024-11-03 10:39:53,084 - INFO - Epoch[7] Metrics -- Mean_Dice: 0.2817 \n",
            "2024-11-03 10:40:01,188 - INFO - Epoch: 8/10, Iter: 1/4 -- Loss: 0.4343 \n",
            "2024-11-03 10:40:08,596 - INFO - Epoch: 8/10, Iter: 2/4 -- Loss: 0.4665 \n",
            "2024-11-03 10:40:15,768 - INFO - Epoch: 8/10, Iter: 3/4 -- Loss: 0.4879 \n",
            "2024-11-03 10:40:21,213 - INFO - Epoch: 8/10, Iter: 4/4 -- Loss: 0.4767 \n",
            "2024-11-03 10:40:24,028 - clearml.storage - INFO - Uploading: 55.07MB to /tmp/.clearml.upload_model_cm2qv4oj.tmp\n"
          ]
        },
        {
          "output_type": "stream",
          "name": "stderr",
          "text": [
            "██████████████████████████████▉ 100% | 55.07/55.07 MB [00:01<00:00, 28.92MB/s]: "
          ]
        },
        {
          "output_type": "stream",
          "name": "stdout",
          "text": [
            "2024-11-03 10:40:25,972 - clearml.Task - INFO - Completed model upload to https://files.clear.ml/MONAI%20example/UNet%20segmentation%203d.c9e03a740b4c442eb7421dc75077af50/models/tmpv930matf\n"
          ]
        },
        {
          "output_type": "stream",
          "name": "stderr",
          "text": [
            "\n"
          ]
        },
        {
          "output_type": "stream",
          "name": "stdout",
          "text": [
            "2024-11-03 10:40:39,195 - INFO - Epoch[8] Metrics -- Mean_Dice: 0.2910 \n",
            "2024-11-03 10:40:48,729 - INFO - Epoch[8] Metrics -- Mean_Dice: 0.2910 \n",
            "2024-11-03 10:40:59,836 - INFO - Epoch: 9/10, Iter: 1/4 -- Loss: 0.4542 \n",
            "2024-11-03 10:41:05,452 - INFO - Epoch: 9/10, Iter: 2/4 -- Loss: 0.4687 \n",
            "2024-11-03 10:41:11,861 - INFO - Epoch: 9/10, Iter: 3/4 -- Loss: 0.4532 \n",
            "2024-11-03 10:41:19,794 - INFO - Epoch: 9/10, Iter: 4/4 -- Loss: 0.4560 \n",
            "2024-11-03 10:41:22,820 - clearml.storage - INFO - Uploading: 55.07MB to /tmp/.clearml.upload_model_v24tvo4h.tmp\n"
          ]
        },
        {
          "output_type": "stream",
          "name": "stderr",
          "text": [
            "██████████████████████████████▉ 100% | 55.07/55.07 MB [00:01<00:00, 31.82MB/s]: "
          ]
        },
        {
          "output_type": "stream",
          "name": "stdout",
          "text": [
            "2024-11-03 10:41:24,569 - clearml.Task - INFO - Completed model upload to https://files.clear.ml/MONAI%20example/UNet%20segmentation%203d.c9e03a740b4c442eb7421dc75077af50/models/tmp44jf9qey\n"
          ]
        },
        {
          "output_type": "stream",
          "name": "stderr",
          "text": [
            "\n"
          ]
        },
        {
          "output_type": "stream",
          "name": "stdout",
          "text": [
            "2024-11-03 10:41:33,174 - INFO - Epoch[9] Metrics -- Mean_Dice: 0.3370 \n",
            "2024-11-03 10:41:45,329 - INFO - Epoch[9] Metrics -- Mean_Dice: 0.3370 \n",
            "2024-11-03 10:41:53,656 - INFO - Epoch: 10/10, Iter: 1/4 -- Loss: 0.4579 \n",
            "2024-11-03 10:42:01,387 - INFO - Epoch: 10/10, Iter: 2/4 -- Loss: 0.4487 \n",
            "2024-11-03 10:42:06,797 - INFO - Epoch: 10/10, Iter: 3/4 -- Loss: 0.4301 \n",
            "2024-11-03 10:42:12,571 - INFO - Epoch: 10/10, Iter: 4/4 -- Loss: 0.4469 \n",
            "2024-11-03 10:42:16,117 - clearml.storage - INFO - Uploading: 55.07MB to /tmp/.clearml.upload_model_xmty8i5q.tmp\n"
          ]
        },
        {
          "output_type": "stream",
          "name": "stderr",
          "text": [
            "██████████████████████████████▉ 100% | 55.07/55.07 MB [00:01<00:00, 30.86MB/s]: "
          ]
        },
        {
          "output_type": "stream",
          "name": "stdout",
          "text": [
            "2024-11-03 10:42:17,927 - clearml.Task - INFO - Completed model upload to https://files.clear.ml/MONAI%20example/UNet%20segmentation%203d.c9e03a740b4c442eb7421dc75077af50/models/tmpc8kgr25v\n"
          ]
        },
        {
          "output_type": "stream",
          "name": "stderr",
          "text": [
            "\n"
          ]
        },
        {
          "output_type": "stream",
          "name": "stdout",
          "text": [
            "2024-11-03 10:42:24,255 - INFO - Epoch[10] Metrics -- Mean_Dice: 0.4036 \n",
            "2024-11-03 10:42:35,671 - INFO - Epoch[10] Metrics -- Mean_Dice: 0.4036 \n"
          ]
        },
        {
          "output_type": "execute_result",
          "data": {
            "text/plain": [
              "State:\n",
              "\titeration: 40\n",
              "\tepoch: 10\n",
              "\tepoch_length: 4\n",
              "\tmax_epochs: 10\n",
              "\toutput: 0.44685739278793335\n",
              "\tbatch: <class 'list'>\n",
              "\tmetrics: <class 'dict'>\n",
              "\tdataloader: <class 'monai.data.dataloader.DataLoader'>\n",
              "\tseed: <class 'NoneType'>\n",
              "\ttimes: <class 'dict'>"
            ]
          },
          "metadata": {},
          "execution_count": 13
        }
      ],
      "source": [
        "# create a training data loader\n",
        "train_ds = ArrayDataset(images[:20], imtrans, segs[:20], segtrans)\n",
        "train_loader = DataLoader(\n",
        "    train_ds,\n",
        "    batch_size=5,\n",
        "    shuffle=True,\n",
        "    num_workers=2,\n",
        "    # pin_memory=torch.cuda.is_available(),\n",
        "    pin_memory=False,\n",
        ")\n",
        "\n",
        "max_epochs = 10\n",
        "trainer.run(train_loader, max_epochs)"
      ]
    },
    {
      "cell_type": "markdown",
      "metadata": {
        "id": "7bPDjtbE7sCP"
      },
      "source": [
        "## Visualize results\n",
        "\n",
        "ClearML captures the models, scalar plots, and images logged with `ModelCheckpoint`, `ClearMLImageHandler`, and `ClearMLStatsHandler` respectively. View them in ClearML's web UI. When a task is created, the console output displays the task ID and a link to the task's page in the ClearML web UI.\n",
        "\n",
        "### Models\n",
        "All model checkpoints logged with ModelCheckpoint can be viewed in the task's **Artifacts** tab.\n",
        "\n",
        "\n",
        "\n"
      ]
    },
    {
      "cell_type": "markdown",
      "metadata": {
        "id": "Uya6hN7At-C6"
      },
      "source": [
        "![MONAI ClearML Models](https://github.com/Project-MONAI/tutorials/blob/main/figures/monai_clearml_models.png?raw=1)"
      ]
    },
    {
      "cell_type": "markdown",
      "metadata": {
        "id": "kLs1tEXRt-Pp"
      },
      "source": [
        "### Scalars\n",
        "\n",
        "View the logged metric plots in the task's **Scalars** tab.\n",
        "\n"
      ]
    },
    {
      "cell_type": "markdown",
      "metadata": {
        "id": "DCLhp4e2uKsd"
      },
      "source": [
        "![MONAI ClearML scalars.png](https://github.com/Project-MONAI/tutorials/blob/main/figures/monai_clearml_scalars.png?raw=1)"
      ]
    },
    {
      "cell_type": "markdown",
      "metadata": {
        "id": "yjfeorgJuLUN"
      },
      "source": [
        "### Debug Samples\n",
        "\n",
        "View all images logged through ClearMLImageHandler in the task's **Debug Samples** tab. You can view the samples by metric at any iteration."
      ]
    },
    {
      "cell_type": "markdown",
      "metadata": {
        "id": "AFLJauKxt-Yy"
      },
      "source": [
        "![MONAI ClearML Debug Samples.png](https://github.com/Project-MONAI/tutorials/blob/main/figures/monai_clearml_debug_samples.png?raw=1)"
      ]
    },
    {
      "cell_type": "markdown",
      "metadata": {
        "id": "UFlaQUTXGTBv"
      },
      "source": [
        "## Cleanup data directory"
      ]
    },
    {
      "cell_type": "code",
      "execution_count": null,
      "metadata": {
        "id": "w6JE9lVQGTBw"
      },
      "outputs": [],
      "source": [
        "if directory is None:\n",
        "    shutil.rmtree(root_dir)"
      ]
    },
    {
      "cell_type": "markdown",
      "metadata": {
        "id": "sT-5Zxg_7Ajm"
      },
      "source": [
        "\n",
        "## Close the ClearML Task\n",
        "This changes the task status to `Completed`."
      ]
    },
    {
      "cell_type": "code",
      "execution_count": null,
      "metadata": {
        "id": "BAD6ACGGOLU3"
      },
      "outputs": [],
      "source": [
        "val_clearml_image_handler.clearml_task.close()"
      ]
    }
  ],
  "metadata": {
    "colab": {
      "provenance": [],
      "gpuType": "T4"
    },
    "kernelspec": {
      "display_name": "Python 3",
      "name": "python3"
    },
    "language_info": {
      "codemirror_mode": {
        "name": "ipython",
        "version": 3
      },
      "file_extension": ".py",
      "mimetype": "text/x-python",
      "name": "python",
      "nbconvert_exporter": "python",
      "pygments_lexer": "ipython3",
      "version": "3.8.13"
    },
    "accelerator": "GPU"
  },
  "nbformat": 4,
  "nbformat_minor": 0
}